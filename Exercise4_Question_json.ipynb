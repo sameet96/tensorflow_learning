{
  "nbformat": 4,
  "nbformat_minor": 0,
  "metadata": {
    "coursera": {
      "course_slug": "introduction-tensorflow",
      "graded_item_id": "1kAlw",
      "launcher_item_id": "PNLYD"
    },
    "kernelspec": {
      "display_name": "Python 3",
      "language": "python",
      "name": "python3"
    },
    "language_info": {
      "codemirror_mode": {
        "name": "ipython",
        "version": 3
      },
      "file_extension": ".py",
      "mimetype": "text/x-python",
      "name": "python",
      "nbconvert_exporter": "python",
      "pygments_lexer": "ipython3",
      "version": "3.6.8"
    },
    "colab": {
      "name": "Exercise4-Question.json",
      "provenance": []
    }
  },
  "cells": [
    {
      "cell_type": "markdown",
      "metadata": {
        "id": "UncprnB0ymAE"
      },
      "source": [
        "Below is code with a link to a happy or sad dataset which contains 80 images, 40 happy and 40 sad. \n",
        "Create a convolutional neural network that trains to 100% accuracy on these images,  which cancels training upon hitting training accuracy of >.999\n",
        "\n",
        "Hint -- it will work best with 3 convolutional layers."
      ]
    },
    {
      "cell_type": "code",
      "metadata": {
        "id": "ueyjegPxYt6_"
      },
      "source": [
        "import tensorflow as tf\n",
        "import os\n",
        "import zipfile\n",
        "from os import path, getcwd, chdir\n",
        "\n",
        "# DO NOT CHANGE THE LINE BELOW. If you are developing in a local\n",
        "# environment, then grab happy-or-sad.zip from the Coursera Jupyter Notebook\n",
        "# and place it inside a local folder and edit the path to that location\n",
        "path = f\"{getcwd()}/../tmp2/happy-or-sad.zip\"\n",
        "\n",
        "zip_ref = zipfile.ZipFile(path, 'r')\n",
        "zip_ref.extractall(\"/tmp/h-or-s\")\n",
        "zip_ref.close()"
      ],
      "execution_count": null,
      "outputs": []
    },
    {
      "cell_type": "code",
      "metadata": {
        "id": "7Sx8O5THYt7A"
      },
      "source": [
        "from tensorflow.keras.preprocessing.image import ImageDataGenerator\n",
        "from tensorflow.keras.optimizers import RMSprop\n",
        "# GRADED FUNCTION: train_happy_sad_model\n",
        "def train_happy_sad_model():\n",
        "    # Please write your code only where you are indicated.\n",
        "    # please do not remove # model fitting inline comments.\n",
        "\n",
        "    DESIRED_ACCURACY = 0.999\n",
        "\n",
        "    class myCallback(tf.keras.callbacks.Callback):\n",
        "        def on_epoch_end(self, epoch, logs={}):\n",
        "            if(logs.get('acc')>0.999):\n",
        "              print(\"\\nReached 99.9% accuracy so cancelling training!\")\n",
        "              self.model.stop_training = True\n",
        "\n",
        "\n",
        "    callbacks = myCallback()\n",
        "\n",
        "    # This Code Block should Define and Compile the Model. Please assume the images are 150 X 150 in your implementation.\n",
        "    model = tf.keras.models.Sequential([\n",
        "        tf.keras.layers.Conv2D(16 , (3,3), activation = 'relu', input_shape = (40,40, 3)),\n",
        "        tf.keras.layers.MaxPooling2D(2,2),\n",
        "        tf.keras.layers.Conv2D(32, (3,3), activation = 'relu'),\n",
        "        tf.keras.layers.MaxPooling2D(2,2),\n",
        "        tf.keras.layers.Conv2D(64, (3,3), activation = 'relu'),\n",
        "        tf.keras.layers.MaxPooling2D(2,2),\n",
        "        tf.keras.layers.Flatten(),\n",
        "        tf.keras.layers.Dense(256, activation = 'relu'),\n",
        "        tf.keras.layers.Dense(1, activation = 'sigmoid')\n",
        "    ])\n",
        "\n",
        "    \n",
        "\n",
        "    model.compile(\n",
        "        loss = 'binary_crossentropy',\n",
        "        optimizer = RMSprop(lr = 0.001),\n",
        "        metrics = ['accuracy']\n",
        "        # Your Code Here #\n",
        "    )\n",
        "        \n",
        "\n",
        "    # This code block should create an instance of an ImageDataGenerator called train_datagen \n",
        "    # And a train_generator by calling train_datagen.flow_from_directory\n",
        "\n",
        "    \n",
        "\n",
        "    train_datagen = ImageDataGenerator(rescale = 1/255) # Your Code Here\n",
        "\n",
        "    # Please use a target_size of 150 X 150.\n",
        "    train_generator = train_datagen.flow_from_directory(\n",
        "        \"/tmp/h-or-s\"# Your Code Here\n",
        "        ,\n",
        "        target_size = (40,40),\n",
        "    #         batch_size = \n",
        "        class_mode = 'binary'\n",
        "    )\n",
        "    # Expected output: 'Found 80 images belonging to 2 classes'\n",
        "\n",
        "    # This code block should call model.fit_generator and train for\n",
        "    # a number of epochs.\n",
        "    # model fitting\n",
        "    history = model.fit_generator(\n",
        "        train_generator,\n",
        "        callbacks = [callbacks],\n",
        "    #         steps_per_epoch = 8\n",
        "        epochs = 50,\n",
        "        verbose = 1\n",
        "          # Your Code Here\n",
        "    )\n",
        "    # model fitting\n",
        "    return history.history['acc'][-1]"
      ],
      "execution_count": null,
      "outputs": []
    },
    {
      "cell_type": "code",
      "metadata": {
        "id": "iJSGmnssYt7C",
        "outputId": "6f0f0c26-463f-4956-8244-493f1222cc66"
      },
      "source": [
        "# The Expected output: \"Reached 99.9% accuracy so cancelling training!\"\"\n",
        "train_happy_sad_model()"
      ],
      "execution_count": null,
      "outputs": [
        {
          "output_type": "stream",
          "text": [
            "Found 80 images belonging to 2 classes.\n",
            "Epoch 1/50\n",
            "3/3 [==============================] - 1s 364ms/step - loss: 0.8540 - acc: 0.4750\n",
            "Epoch 2/50\n",
            "3/3 [==============================] - 0s 92ms/step - loss: 0.6759 - acc: 0.6000\n",
            "Epoch 3/50\n",
            "3/3 [==============================] - 0s 71ms/step - loss: 0.6516 - acc: 0.7250\n",
            "Epoch 4/50\n",
            "3/3 [==============================] - 0s 69ms/step - loss: 0.5592 - acc: 0.7750\n",
            "Epoch 5/50\n",
            "3/3 [==============================] - 0s 72ms/step - loss: 0.5843 - acc: 0.5125\n",
            "Epoch 6/50\n",
            "3/3 [==============================] - 0s 98ms/step - loss: 0.3710 - acc: 0.9375\n",
            "Epoch 7/50\n",
            "3/3 [==============================] - 0s 100ms/step - loss: 0.5520 - acc: 0.8000\n",
            "Epoch 8/50\n",
            "3/3 [==============================] - 0s 97ms/step - loss: 0.2783 - acc: 0.9250\n",
            "Epoch 9/50\n",
            "3/3 [==============================] - 0s 71ms/step - loss: 0.2049 - acc: 0.9250\n",
            "Epoch 10/50\n",
            "3/3 [==============================] - 0s 97ms/step - loss: 0.1963 - acc: 0.9500\n",
            "Epoch 11/50\n",
            "3/3 [==============================] - 0s 71ms/step - loss: 0.1929 - acc: 0.9250\n",
            "Epoch 12/50\n",
            "3/3 [==============================] - 0s 93ms/step - loss: 0.2115 - acc: 0.9500\n",
            "Epoch 13/50\n",
            "3/3 [==============================] - 0s 68ms/step - loss: 0.2095 - acc: 0.9500\n",
            "Epoch 14/50\n",
            "3/3 [==============================] - 0s 96ms/step - loss: 0.1862 - acc: 0.9375\n",
            "Epoch 15/50\n",
            "3/3 [==============================] - 0s 72ms/step - loss: 0.1100 - acc: 0.9375\n",
            "Epoch 16/50\n",
            "3/3 [==============================] - 0s 69ms/step - loss: 0.1472 - acc: 0.9500\n",
            "Epoch 17/50\n",
            "3/3 [==============================] - 0s 88ms/step - loss: 0.1052 - acc: 0.9875\n",
            "Epoch 18/50\n",
            "3/3 [==============================] - 0s 71ms/step - loss: 0.1336 - acc: 0.9500\n",
            "Epoch 19/50\n",
            "3/3 [==============================] - 0s 70ms/step - loss: 0.0868 - acc: 0.9875\n",
            "Epoch 20/50\n",
            "3/3 [==============================] - 0s 88ms/step - loss: 0.0865 - acc: 0.9750\n",
            "Epoch 21/50\n",
            "2/3 [===================>..........] - ETA: 0s - loss: 0.0631 - acc: 1.0000\n",
            "Reached 99.9% accuracy so cancelling training!\n",
            "3/3 [==============================] - 0s 70ms/step - loss: 0.0471 - acc: 1.0000\n"
          ],
          "name": "stdout"
        },
        {
          "output_type": "execute_result",
          "data": {
            "text/plain": [
              "1.0"
            ]
          },
          "metadata": {
            "tags": []
          },
          "execution_count": 25
        }
      ]
    },
    {
      "cell_type": "code",
      "metadata": {
        "id": "_B8A0s4kYt7D"
      },
      "source": [
        "# Now click the 'Submit Assignment' button above.\n",
        "# Once that is complete, please run the following two cells to save your work and close the notebook"
      ],
      "execution_count": null,
      "outputs": []
    },
    {
      "cell_type": "code",
      "metadata": {
        "id": "VUfHDqxNYt7D"
      },
      "source": [
        "%%javascript\n",
        "<!-- Save the notebook -->\n",
        "IPython.notebook.save_checkpoint();"
      ],
      "execution_count": null,
      "outputs": []
    },
    {
      "cell_type": "code",
      "metadata": {
        "id": "6HLlUfWVYt7D"
      },
      "source": [
        "%%javascript\n",
        "IPython.notebook.session.delete();\n",
        "window.onbeforeunload = null\n",
        "setTimeout(function() { window.close(); }, 1000);"
      ],
      "execution_count": null,
      "outputs": []
    }
  ]
}